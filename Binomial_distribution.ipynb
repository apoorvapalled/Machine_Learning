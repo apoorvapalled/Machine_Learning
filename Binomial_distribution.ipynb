{
  "nbformat": 4,
  "nbformat_minor": 0,
  "metadata": {
    "colab": {
      "provenance": [],
      "authorship_tag": "ABX9TyOjxwaLp64KOXE7RH6vdRse",
      "include_colab_link": true
    },
    "kernelspec": {
      "name": "python3",
      "display_name": "Python 3"
    },
    "language_info": {
      "name": "python"
    }
  },
  "cells": [
    {
      "cell_type": "markdown",
      "metadata": {
        "id": "view-in-github",
        "colab_type": "text"
      },
      "source": [
        "<a href=\"https://colab.research.google.com/github/apoorvapalled/Machine_Learning/blob/main/Binomial_distribution.ipynb\" target=\"_parent\"><img src=\"https://colab.research.google.com/assets/colab-badge.svg\" alt=\"Open In Colab\"/></a>"
      ]
    },
    {
      "cell_type": "code",
      "execution_count": 1,
      "metadata": {
        "id": "8edNVD4JPCaQ"
      },
      "outputs": [],
      "source": [
        "# checking for pallindrome\n",
        "\n",
        "def is_palindrome(x):\n",
        "  x_str = str(x)\n",
        "  return x_str == x_str[::-1]\n",
        "\n"
      ]
    },
    {
      "cell_type": "code",
      "source": [
        "# checking for pallindrome and return is boolian\n",
        "def is_pallindrome(x):\n",
        "  if x<0:\n",
        "    return False\n",
        "  return str(x) == str(x)[::-1]"
      ],
      "metadata": {
        "id": "2MTrscneQVk8"
      },
      "execution_count": 2,
      "outputs": []
    },
    {
      "cell_type": "code",
      "source": [
        "#if two dice are rolled what is the probability of getting the sum greater than 7\n",
        "import random"
      ],
      "metadata": {
        "id": "kW2j7Rz0ZkNV"
      },
      "execution_count": 3,
      "outputs": []
    },
    {
      "cell_type": "code",
      "source": [
        "def roll_dice ():\n",
        "  return random.randint(1,6)"
      ],
      "metadata": {
        "id": "5VPjpyfYZwd7"
      },
      "execution_count": 5,
      "outputs": []
    },
    {
      "cell_type": "code",
      "source": [
        "def get_probability (dice):\n",
        "  count_greater_than_7=0\n",
        "  for i in range (dice):\n",
        "    dice1=roll.dice()\n",
        "    dice2=roll.dice()\n",
        "    if dice1+dice2>7:\n",
        "      count_greater_than_7+=1\n",
        "  probability=count_greater_than_7/dice\n",
        "  return probability"
      ],
      "metadata": {
        "id": "X7jNoqzraHFJ"
      },
      "execution_count": 7,
      "outputs": []
    },
    {
      "cell_type": "markdown",
      "source": [
        "Binomial Distribution"
      ],
      "metadata": {
        "id": "lx-p26x6uO78"
      }
    },
    {
      "cell_type": "code",
      "source": [
        "import numpy as np"
      ],
      "metadata": {
        "id": "_nihp1U3uT9c"
      },
      "execution_count": 9,
      "outputs": []
    },
    {
      "cell_type": "code",
      "source": [
        "np.random.binomial(2,0.5)"
      ],
      "metadata": {
        "colab": {
          "base_uri": "https://localhost:8080/"
        },
        "id": "WAdE9ZHUuXlq",
        "outputId": "24171362-3e67-4cc0-d861-bd6702ac4e14"
      },
      "execution_count": 10,
      "outputs": [
        {
          "output_type": "execute_result",
          "data": {
            "text/plain": [
              "1"
            ]
          },
          "metadata": {},
          "execution_count": 10
        }
      ]
    },
    {
      "cell_type": "code",
      "source": [
        "two_coins= np.random.binomial(2,0.5,1000)"
      ],
      "metadata": {
        "id": "qhEXmbqLukPK"
      },
      "execution_count": 11,
      "outputs": []
    },
    {
      "cell_type": "code",
      "source": [],
      "metadata": {
        "id": "LPUYOF3sxGBT"
      },
      "execution_count": null,
      "outputs": []
    },
    {
      "cell_type": "code",
      "source": [
        "import matplotlib.pyplot as plt\n",
        "import seaborn as sns\n",
        "sns.set_theme(style=\"whitegrid\")\n",
        "np.random.seed(555)\n",
        "sns.countplot(x=two_coins)\n",
        "plt.show()"
      ],
      "metadata": {
        "colab": {
          "base_uri": "https://localhost:8080/",
          "height": 434
        },
        "id": "uv1y6vbHu5Mt",
        "outputId": "79243a55-bea0-42a3-f319-a5b1d1345d0a"
      },
      "execution_count": 15,
      "outputs": [
        {
          "output_type": "display_data",
          "data": {
            "text/plain": [
              "<Figure size 640x480 with 1 Axes>"
            ],
            "image/png": "[encoded data removed]"
          },
          "metadata": {}
        }
      ]
    },
    {
      "cell_type": "code",
      "source": [
        "ten_coins= np.random.binomial(10,0.5,1000)"
      ],
      "metadata": {
        "id": "rhTyBChAxHaz"
      },
      "execution_count": 16,
      "outputs": []
    },
    {
      "cell_type": "code",
      "source": [
        "sns.set_theme(style=\"whitegrid\")\n",
        "np.random.seed(555)\n",
        "sns.countplot(x=ten_coins)\n",
        "plt.show()"
      ],
      "metadata": {
        "colab": {
          "base_uri": "https://localhost:8080/",
          "height": 436
        },
        "id": "pgOjsM6nxN-F",
        "outputId": "2e546b18-a67a-4aef-9927-b559444f74d2"
      },
      "execution_count": 18,
      "outputs": [
        {
          "output_type": "display_data",
          "data": {
            "text/plain": [
              "<Figure size 640x480 with 1 Axes>"
            ],
            "image/png": "[encoded data removed]"
          },
          "metadata": {}
        }
      ]
    }
  ]
}