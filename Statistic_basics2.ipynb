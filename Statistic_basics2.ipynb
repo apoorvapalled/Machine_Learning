{
  "nbformat": 4,
  "nbformat_minor": 0,
  "metadata": {
    "colab": {
      "provenance": [],
      "authorship_tag": "ABX9TyPeQnH5mTrV0GkT/Bf1OwB9",
      "include_colab_link": true
    },
    "kernelspec": {
      "name": "python3",
      "display_name": "Python 3"
    },
    "language_info": {
      "name": "python"
    }
  },
  "cells": [
    {
      "cell_type": "markdown",
      "metadata": {
        "id": "view-in-github",
        "colab_type": "text"
      },
      "source": [
        "<a href=\"https://colab.research.google.com/github/apoorvapalled/Machine_Learning/blob/main/Statistic_basics2.ipynb\" target=\"_parent\"><img src=\"https://colab.research.google.com/assets/colab-badge.svg\" alt=\"Open In Colab\"/></a>"
      ]
    },
    {
      "cell_type": "code",
      "execution_count": 1,
      "metadata": {
        "id": "q_hIM1vOzlPF"
      },
      "outputs": [],
      "source": [
        "import numpy as np\n"
      ]
    },
    {
      "cell_type": "markdown",
      "source": [
        "Generating random numbers\n"
      ],
      "metadata": {
        "id": "DGKOuO5jz2XK"
      }
    },
    {
      "cell_type": "code",
      "source": [
        "np.random.rand()"
      ],
      "metadata": {
        "colab": {
          "base_uri": "https://localhost:8080/"
        },
        "id": "20nAEvxtz5lN",
        "outputId": "5514f304-10f3-4eb2-b6b4-9688f28f82de"
      },
      "execution_count": 2,
      "outputs": [
        {
          "output_type": "execute_result",
          "data": {
            "text/plain": [
              "0.4649216148348617"
            ]
          },
          "metadata": {},
          "execution_count": 2
        }
      ]
    },
    {
      "cell_type": "code",
      "source": [
        "np.random.rand(10)"
      ],
      "metadata": {
        "colab": {
          "base_uri": "https://localhost:8080/"
        },
        "id": "v8eAbvAB2E5I",
        "outputId": "df425a1a-6a10-4441-d50f-cfa76af9ae77"
      },
      "execution_count": 3,
      "outputs": [
        {
          "output_type": "execute_result",
          "data": {
            "text/plain": [
              "array([0.16496718, 0.30700046, 0.46596229, 0.65020823, 0.76126277,\n",
              "       0.04668084, 0.57569471, 0.81862304, 0.81464692, 0.66848022])"
            ]
          },
          "metadata": {},
          "execution_count": 3
        }
      ]
    },
    {
      "cell_type": "code",
      "source": [
        "np.random.rand(10)>0.5"
      ],
      "metadata": {
        "colab": {
          "base_uri": "https://localhost:8080/"
        },
        "id": "MT4VOfm72M0e",
        "outputId": "85de0683-94fc-4cf4-834e-2511df243b5e"
      },
      "execution_count": 4,
      "outputs": [
        {
          "output_type": "execute_result",
          "data": {
            "text/plain": [
              "array([False,  True,  True,  True,  True, False, False,  True,  True,\n",
              "        True])"
            ]
          },
          "metadata": {},
          "execution_count": 4
        }
      ]
    },
    {
      "cell_type": "code",
      "source": [
        "np.random.rand(4,5)"
      ],
      "metadata": {
        "colab": {
          "base_uri": "https://localhost:8080/"
        },
        "id": "eAKT8PhP2jOh",
        "outputId": "b68fa48c-95bd-4678-9d5b-258a88c3168b"
      },
      "execution_count": 6,
      "outputs": [
        {
          "output_type": "execute_result",
          "data": {
            "text/plain": [
              "array([[0.03440901, 0.53077893, 0.55609351, 0.12835385, 0.38745241],\n",
              "       [0.48153644, 0.36371901, 0.35776379, 0.63865381, 0.7065394 ],\n",
              "       [0.36532496, 0.55171979, 0.76767697, 0.93286795, 0.24934243],\n",
              "       [0.49296467, 0.67750495, 0.58725286, 0.02678141, 0.16404991]])"
            ]
          },
          "metadata": {},
          "execution_count": 6
        }
      ]
    },
    {
      "cell_type": "code",
      "source": [
        "np.random.randint(5,10)"
      ],
      "metadata": {
        "colab": {
          "base_uri": "https://localhost:8080/"
        },
        "id": "tPBq0wyV2k74",
        "outputId": "df294099-28d8-4d8b-ad4c-d5fd5d042089"
      },
      "execution_count": 7,
      "outputs": [
        {
          "output_type": "execute_result",
          "data": {
            "text/plain": [
              "6"
            ]
          },
          "metadata": {},
          "execution_count": 7
        }
      ]
    },
    {
      "cell_type": "code",
      "source": [
        "np.random.randint(5,10,20)"
      ],
      "metadata": {
        "colab": {
          "base_uri": "https://localhost:8080/"
        },
        "id": "eEehdRJa25T1",
        "outputId": "2cce833f-590f-41f8-f82f-e6ddc1672978"
      },
      "execution_count": 8,
      "outputs": [
        {
          "output_type": "execute_result",
          "data": {
            "text/plain": [
              "array([5, 9, 8, 9, 7, 6, 7, 7, 9, 5, 7, 5, 8, 9, 6, 6, 8, 6, 9, 6])"
            ]
          },
          "metadata": {},
          "execution_count": 8
        }
      ]
    },
    {
      "cell_type": "code",
      "source": [
        "sum(np.random.randint(5,10,20))"
      ],
      "metadata": {
        "colab": {
          "base_uri": "https://localhost:8080/"
        },
        "id": "n4eo5Sry2-sy",
        "outputId": "d31aa5b8-3af3-44ba-ea9f-b187626ecf51"
      },
      "execution_count": 9,
      "outputs": [
        {
          "output_type": "execute_result",
          "data": {
            "text/plain": [
              "137"
            ]
          },
          "metadata": {},
          "execution_count": 9
        }
      ]
    },
    {
      "cell_type": "code",
      "source": [
        "sum(np.random.randint(5,10,20))"
      ],
      "metadata": {
        "colab": {
          "base_uri": "https://localhost:8080/"
        },
        "id": "CztbuxJw3B2O",
        "outputId": "07be98e5-f369-4b54-d4c6-ea746ee069c6"
      },
      "execution_count": 10,
      "outputs": [
        {
          "output_type": "execute_result",
          "data": {
            "text/plain": [
              "144"
            ]
          },
          "metadata": {},
          "execution_count": 10
        }
      ]
    },
    {
      "cell_type": "code",
      "source": [
        "sum(np.random.randint(5,10,20))"
      ],
      "metadata": {
        "colab": {
          "base_uri": "https://localhost:8080/"
        },
        "id": "CqA-RtI63E1o",
        "outputId": "bc0e4123-fe4e-406b-d2fa-214ecb66692e"
      },
      "execution_count": 11,
      "outputs": [
        {
          "output_type": "execute_result",
          "data": {
            "text/plain": [
              "149"
            ]
          },
          "metadata": {},
          "execution_count": 11
        }
      ]
    },
    {
      "cell_type": "markdown",
      "source": [
        "Dice problem\n"
      ],
      "metadata": {
        "id": "JjyASgr-58q7"
      }
    },
    {
      "cell_type": "code",
      "source": [
        "np.random.randint(1,7,10)"
      ],
      "metadata": {
        "colab": {
          "base_uri": "https://localhost:8080/"
        },
        "id": "CZsagRER6BJf",
        "outputId": "5b58afd3-bb78-4068-8e4b-95a1593391fe"
      },
      "execution_count": 12,
      "outputs": [
        {
          "output_type": "execute_result",
          "data": {
            "text/plain": [
              "array([5, 3, 1, 6, 4, 4, 1, 5, 3, 5])"
            ]
          },
          "metadata": {},
          "execution_count": 12
        }
      ]
    },
    {
      "cell_type": "code",
      "source": [
        "import matplotlib.pyplot as plt\n",
        "import seaborn as sns\n",
        "a = np.random.randint(1,7,100000)"
      ],
      "metadata": {
        "id": "LqwRn7Fe6MW9"
      },
      "execution_count": 16,
      "outputs": []
    },
    {
      "cell_type": "code",
      "source": [
        "sns.countplot(x=a)\n",
        "plt.show"
      ],
      "metadata": {
        "colab": {
          "base_uri": "https://localhost:8080/",
          "height": 447
        },
        "id": "i8lDDMXN6pMK",
        "outputId": "a59bd761-77bb-4bfc-ae7e-562b130feea2"
      },
      "execution_count": 17,
      "outputs": [
        {
          "output_type": "execute_result",
          "data": {
            "text/plain": [
              "<function matplotlib.pyplot.show(close=None, block=None)>"
            ]
          },
          "metadata": {},
          "execution_count": 17
        },
        {
          "output_type": "display_data",
          "data": {
            "text/plain": [
              "<Figure size 640x480 with 1 Axes>"
            ],
            "image/png": "[encoded data removed]"
          },
          "metadata": {}
        }
      ]
    },
    {
      "cell_type": "code",
      "source": [
        "b = np.random.randint(1,7,100000000)\n",
        "sns.countplot(x=b)\n",
        "plt.show"
      ],
      "metadata": {
        "colab": {
          "base_uri": "https://localhost:8080/",
          "height": 462
        },
        "id": "cytU1qq861fZ",
        "outputId": "5fe333ae-6c4c-4ba7-9b4e-15476b17770b"
      },
      "execution_count": 18,
      "outputs": [
        {
          "output_type": "execute_result",
          "data": {
            "text/plain": [
              "<function matplotlib.pyplot.show(close=None, block=None)>"
            ]
          },
          "metadata": {},
          "execution_count": 18
        },
        {
          "output_type": "display_data",
          "data": {
            "text/plain": [
              "<Figure size 640x480 with 1 Axes>"
            ],
            "image/png": "[encoded data removed]"
          },
          "metadata": {}
        }
      ]
    },
    {
      "cell_type": "code",
      "source": [],
      "metadata": {
        "id": "w6Nn7QM37Hm7"
      },
      "execution_count": null,
      "outputs": []
    },
    {
      "cell_type": "code",
      "source": [
        "c=np.random.randint(1,7,500)"
      ],
      "metadata": {
        "id": "RI-A0W5v7H2A"
      },
      "execution_count": 19,
      "outputs": []
    },
    {
      "cell_type": "code",
      "source": [
        "sns.countplot(x=c)\n",
        "plt.show"
      ],
      "metadata": {
        "colab": {
          "base_uri": "https://localhost:8080/",
          "height": 449
        },
        "id": "ZLbQ0DBQ7EY3",
        "outputId": "8afdaf9a-8c3a-4f5b-9d5b-766e159e59d5"
      },
      "execution_count": 20,
      "outputs": [
        {
          "output_type": "execute_result",
          "data": {
            "text/plain": [
              "<function matplotlib.pyplot.show(close=None, block=None)>"
            ]
          },
          "metadata": {},
          "execution_count": 20
        },
        {
          "output_type": "display_data",
          "data": {
            "text/plain": [
              "<Figure size 640x480 with 1 Axes>"
            ],
            "image/png": "[encoded data removed]"
          },
          "metadata": {}
        }
      ]
    },
    {
      "cell_type": "markdown",
      "source": [
        "If two dice are rolled what is the probability of getting sum greater than 7\n"
      ],
      "metadata": {
        "id": "ZsxvZK__7ROf"
      }
    },
    {
      "cell_type": "code",
      "source": [
        "dice1 = np.random.randint(1,7,50)\n",
        "dice2 = np.random.randint(1,7,50)"
      ],
      "metadata": {
        "id": "HB8JF8XJ7YRk"
      },
      "execution_count": 21,
      "outputs": []
    },
    {
      "cell_type": "code",
      "source": [],
      "metadata": {
        "id": "xkyjB88s78ej"
      },
      "execution_count": null,
      "outputs": []
    },
    {
      "cell_type": "code",
      "source": [
        "dice1"
      ],
      "metadata": {
        "colab": {
          "base_uri": "https://localhost:8080/"
        },
        "id": "HwApnHP47pfY",
        "outputId": "d3fa98ec-4dc3-4cb5-d0f3-d9228455eae6"
      },
      "execution_count": 22,
      "outputs": [
        {
          "output_type": "execute_result",
          "data": {
            "text/plain": [
              "array([2, 1, 5, 1, 6, 1, 1, 2, 3, 3, 4, 4, 3, 3, 4, 5, 6, 5, 1, 6, 2, 2,\n",
              "       3, 6, 6, 4, 3, 6, 6, 6, 4, 4, 3, 3, 2, 4, 4, 6, 1, 2, 2, 5, 4, 6,\n",
              "       2, 5, 4, 1, 5, 1])"
            ]
          },
          "metadata": {},
          "execution_count": 22
        }
      ]
    },
    {
      "cell_type": "code",
      "source": [
        "dice2"
      ],
      "metadata": {
        "colab": {
          "base_uri": "https://localhost:8080/"
        },
        "id": "AQi6jhkm7rUF",
        "outputId": "6ed917eb-7737-4500-d95f-f920307ff41e"
      },
      "execution_count": 23,
      "outputs": [
        {
          "output_type": "execute_result",
          "data": {
            "text/plain": [
              "array([2, 6, 2, 1, 3, 5, 4, 2, 4, 5, 3, 5, 2, 5, 4, 6, 4, 6, 6, 3, 1, 6,\n",
              "       6, 6, 3, 1, 6, 6, 5, 3, 6, 3, 5, 4, 6, 5, 1, 4, 2, 6, 6, 6, 4, 2,\n",
              "       5, 2, 4, 6, 4, 5])"
            ]
          },
          "metadata": {},
          "execution_count": 23
        }
      ]
    },
    {
      "cell_type": "code",
      "source": [
        "sum_dice = dice1+dice2"
      ],
      "metadata": {
        "id": "MSfjttvJ7v2B"
      },
      "execution_count": 24,
      "outputs": []
    },
    {
      "cell_type": "code",
      "source": [
        "sum_dice"
      ],
      "metadata": {
        "colab": {
          "base_uri": "https://localhost:8080/"
        },
        "id": "ESDMULyg71t5",
        "outputId": "4c574dc8-10c1-4320-fa63-e8dbe614b2c6"
      },
      "execution_count": 25,
      "outputs": [
        {
          "output_type": "execute_result",
          "data": {
            "text/plain": [
              "array([ 4,  7,  7,  2,  9,  6,  5,  4,  7,  8,  7,  9,  5,  8,  8, 11, 10,\n",
              "       11,  7,  9,  3,  8,  9, 12,  9,  5,  9, 12, 11,  9, 10,  7,  8,  7,\n",
              "        8,  9,  5, 10,  3,  8,  8, 11,  8,  8,  7,  7,  8,  7,  9,  6])"
            ]
          },
          "metadata": {},
          "execution_count": 25
        }
      ]
    },
    {
      "cell_type": "code",
      "source": [
        "dicea = np.random.randint(1,7,5000000)\n",
        "diceb = np.random.randint(1,7,5000000)"
      ],
      "metadata": {
        "id": "U_Fu_MTF798o"
      },
      "execution_count": 26,
      "outputs": []
    },
    {
      "cell_type": "code",
      "source": [
        "sum_dices = dicea+diceb"
      ],
      "metadata": {
        "id": "hk339R0O8E2i"
      },
      "execution_count": 27,
      "outputs": []
    },
    {
      "cell_type": "code",
      "source": [
        "sum(sum_dices >7)"
      ],
      "metadata": {
        "colab": {
          "base_uri": "https://localhost:8080/"
        },
        "id": "pe3LoLQt8Q3D",
        "outputId": "a97c7971-6e9d-4496-a213-97733f2fd84d"
      },
      "execution_count": 28,
      "outputs": [
        {
          "output_type": "execute_result",
          "data": {
            "text/plain": [
              "2083491"
            ]
          },
          "metadata": {},
          "execution_count": 28
        }
      ]
    },
    {
      "cell_type": "code",
      "source": [
        "Probability = sum(sum_dices >7)/5000000"
      ],
      "metadata": {
        "id": "D8PmEeok8eOk"
      },
      "execution_count": 30,
      "outputs": []
    },
    {
      "cell_type": "code",
      "source": [
        "Probability"
      ],
      "metadata": {
        "colab": {
          "base_uri": "https://localhost:8080/"
        },
        "id": "U3V6LI5X8eU6",
        "outputId": "8eb4c50a-a505-4cdb-db19-af8fdf9cb2e4"
      },
      "execution_count": 31,
      "outputs": [
        {
          "output_type": "execute_result",
          "data": {
            "text/plain": [
              "0.4166982"
            ]
          },
          "metadata": {},
          "execution_count": 31
        }
      ]
    }
  ]
}